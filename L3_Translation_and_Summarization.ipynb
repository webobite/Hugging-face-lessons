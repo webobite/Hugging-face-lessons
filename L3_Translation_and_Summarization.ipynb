{
  "nbformat": 4,
  "nbformat_minor": 0,
  "metadata": {
    "colab": {
      "provenance": [],
      "authorship_tag": "ABX9TyPngl2shV7kxvCYpCA522+3",
      "include_colab_link": true
    },
    "kernelspec": {
      "name": "python3",
      "display_name": "Python 3"
    },
    "language_info": {
      "name": "python"
    }
  },
  "cells": [
    {
      "cell_type": "markdown",
      "metadata": {
        "id": "view-in-github",
        "colab_type": "text"
      },
      "source": [
        "<a href=\"https://colab.research.google.com/github/webobite/Hugging-face-lessons/blob/main/L3_Translation_and_Summarization.ipynb\" target=\"_parent\"><img src=\"https://colab.research.google.com/assets/colab-badge.svg\" alt=\"Open In Colab\"/></a>"
      ]
    },
    {
      "cell_type": "markdown",
      "source": [
        "# Lesson 3: Translation and Summarization"
      ],
      "metadata": {
        "id": "0RXHF4VEe5UZ"
      }
    },
    {
      "cell_type": "markdown",
      "source": [
        "- In the classroom, the libraries are already installed for you.\n",
        "- If you would like to run this code on your own machine, you can install the following:\n",
        "\n",
        "```\n",
        "    !pip install transformers\n",
        "    !pip install torch\n",
        "```"
      ],
      "metadata": {
        "id": "oCBgaQnFe6sM"
      }
    },
    {
      "cell_type": "code",
      "execution_count": null,
      "metadata": {
        "id": "4ptlz-zjetws"
      },
      "outputs": [],
      "source": [
        "!pip install transformers\n",
        "!pip install torch"
      ]
    },
    {
      "cell_type": "code",
      "source": [
        "from transformers import pipeline\n",
        "import torch"
      ],
      "metadata": {
        "id": "9E62fy0jhsy2"
      },
      "execution_count": 3,
      "outputs": []
    },
    {
      "cell_type": "code",
      "source": [
        "translator = pipeline(task=\"translation\",\n",
        "                      model=\"facebook/nllb-200-distilled-600M\",\n",
        "                      torch_dtype=torch.bfloat16)"
      ],
      "metadata": {
        "id": "uAyxHsK-fAmP"
      },
      "execution_count": null,
      "outputs": []
    },
    {
      "cell_type": "code",
      "source": [
        "text = \"\"\"\\\n",
        "My puppy is adorable, \\\n",
        "Your kitten is cute.\n",
        "Her panda is friendly.\n",
        "His llama is thoughtful. \\\n",
        "We all have nice pets!\"\"\""
      ],
      "metadata": {
        "id": "DyjxHIbqhjAp"
      },
      "execution_count": 5,
      "outputs": []
    },
    {
      "cell_type": "code",
      "source": [
        "text_translated = translator(text,\n",
        "                             src_lang=\"eng_Latn\",\n",
        "                             tgt_lang=\"hin_Deva\")"
      ],
      "metadata": {
        "id": "5bkeZOMxh_Si"
      },
      "execution_count": 6,
      "outputs": []
    },
    {
      "cell_type": "markdown",
      "source": [
        "To choose other languages, you can find the other language codes on the page: [Languages in FLORES-200](https://github.com/facebookresearch/flores/blob/main/flores200/README.md#languages-in-flores-200)\n",
        "\n",
        "For example:\n",
        "- Afrikaans: afr_Latn\n",
        "- Chinese: zho_Hans\n",
        "- Egyptian Arabic: arz_Arab\n",
        "- French: fra_Latn\n",
        "- German: deu_Latn\n",
        "- Greek: ell_Grek\n",
        "- Hindi: hin_Deva\n",
        "- Indonesian: ind_Latn\n",
        "- Italian: ita_Latn\n",
        "- Japanese: jpn_Jpan\n",
        "- Korean: kor_Hang\n",
        "- Persian: pes_Arab\n",
        "- Portuguese: por_Latn\n",
        "- Russian: rus_Cyrl\n",
        "- Spanish: spa_Latn\n",
        "- Swahili: swh_Latn\n",
        "- Thai: tha_Thai\n",
        "- Turkish: tur_Latn\n",
        "- Vietnamese: vie_Latn\n",
        "- Zulu: zul_Latn"
      ],
      "metadata": {
        "id": "novznr8DiDwZ"
      }
    },
    {
      "cell_type": "code",
      "source": [
        "text_translated"
      ],
      "metadata": {
        "colab": {
          "base_uri": "https://localhost:8080/"
        },
        "id": "gbwuKUNRiBJS",
        "outputId": "6d13662f-3177-4427-da4b-1194cf591b64"
      },
      "execution_count": 7,
      "outputs": [
        {
          "output_type": "execute_result",
          "data": {
            "text/plain": [
              "[{'translation_text': 'मेरा पिल्ला प्यारा है, आपका बिल्ली का बच्चा प्यारा है उसका पांडा दोस्ताना है उसका लामा विचारशील है हमारे पास सभी अच्छे पालतू जानवर हैं'}]"
            ]
          },
          "metadata": {},
          "execution_count": 7
        }
      ]
    },
    {
      "cell_type": "markdown",
      "source": [
        "## Free up some memory before continuing\n",
        "- In order to have enough free memory to run the rest of the code, please run the following to free up memory on the machine."
      ],
      "metadata": {
        "id": "5ALNtM_6iNPe"
      }
    },
    {
      "cell_type": "code",
      "source": [
        "import gc"
      ],
      "metadata": {
        "id": "WYEqeaz7iIqk"
      },
      "execution_count": 8,
      "outputs": []
    },
    {
      "cell_type": "code",
      "source": [
        "del translator"
      ],
      "metadata": {
        "id": "6ZQLjxHsiPMG"
      },
      "execution_count": 9,
      "outputs": []
    },
    {
      "cell_type": "code",
      "source": [
        "gc.collect()"
      ],
      "metadata": {
        "colab": {
          "base_uri": "https://localhost:8080/"
        },
        "id": "DGNcM1OuiQ21",
        "outputId": "70d10465-ffc0-4e60-ae03-f96c54124be9"
      },
      "execution_count": 10,
      "outputs": [
        {
          "output_type": "execute_result",
          "data": {
            "text/plain": [
              "110"
            ]
          },
          "metadata": {},
          "execution_count": 10
        }
      ]
    },
    {
      "cell_type": "markdown",
      "source": [
        "### Build the `summarization` pipeline using 🤗 Transformers Library"
      ],
      "metadata": {
        "id": "gJ4Xtyp2iVr5"
      }
    },
    {
      "cell_type": "code",
      "source": [
        "summarizer = pipeline(task=\"summarization\",\n",
        "                      model=\"facebook/bart-large-cnn\",\n",
        "                      torch_dtype=torch.bfloat16)"
      ],
      "metadata": {
        "id": "Y1I3FTu-iSTt"
      },
      "execution_count": null,
      "outputs": []
    },
    {
      "cell_type": "markdown",
      "source": [
        "Model info: ['bart-large-cnn'](https://huggingface.co/facebook/bart-large-cnn)"
      ],
      "metadata": {
        "id": "qOKg_T8Dic5-"
      }
    },
    {
      "cell_type": "code",
      "source": [
        "text = \"\"\"Paris is the capital and most populous city of France, with\n",
        "          an estimated population of 2,175,601 residents as of 2018,\n",
        "          in an area of more than 105 square kilometres (41 square\n",
        "          miles). The City of Paris is the centre and seat of\n",
        "          government of the region and province of Île-de-France, or\n",
        "          Paris Region, which has an estimated population of\n",
        "          12,174,880, or about 18 percent of the population of France\n",
        "          as of 2017.\"\"\""
      ],
      "metadata": {
        "id": "NJWNM6jFiX3D"
      },
      "execution_count": 13,
      "outputs": []
    },
    {
      "cell_type": "code",
      "source": [
        "summary = summarizer(text,\n",
        "                     min_length=10,\n",
        "                     max_length=100)"
      ],
      "metadata": {
        "id": "GsO69KFLifb3"
      },
      "execution_count": 14,
      "outputs": []
    },
    {
      "cell_type": "code",
      "source": [
        "summary"
      ],
      "metadata": {
        "colab": {
          "base_uri": "https://localhost:8080/"
        },
        "id": "pbqe0LjSihUV",
        "outputId": "f3e6025c-e03a-4524-bc0a-8f79a24c685c"
      },
      "execution_count": 15,
      "outputs": [
        {
          "output_type": "execute_result",
          "data": {
            "text/plain": [
              "[{'summary_text': 'Paris is the capital and most populous city of France, with an estimated population of 2,175,601 residents as of 2018. The City of Paris is the centre and seat of the government of the region and province of Île-de-France.'}]"
            ]
          },
          "metadata": {},
          "execution_count": 15
        }
      ]
    },
    {
      "cell_type": "code",
      "source": [],
      "metadata": {
        "id": "sDQ5BiAKiisD"
      },
      "execution_count": null,
      "outputs": []
    }
  ]
}